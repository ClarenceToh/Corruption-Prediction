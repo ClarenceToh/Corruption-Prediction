{
  "nbformat": 4,
  "nbformat_minor": 0,
  "metadata": {
    "colab": {
      "name": "CDS_project_all_countries_2016.ipynb",
      "provenance": []
    },
    "kernelspec": {
      "name": "python3",
      "display_name": "Python 3"
    },
    "accelerator": "TPU"
  },
  "cells": [
    {
      "cell_type": "markdown",
      "metadata": {
        "id": "zmQ5WMcvhomS",
        "colab_type": "text"
      },
      "source": [
        "## Code for all_countries_2016.csv "
      ]
    },
    {
      "cell_type": "code",
      "metadata": {
        "id": "RIoIH5_x4tH0",
        "colab_type": "code",
        "colab": {}
      },
      "source": [
        "!pip install quandl"
      ],
      "execution_count": 0,
      "outputs": []
    },
    {
      "cell_type": "code",
      "metadata": {
        "id": "SD5iklKv5XIt",
        "colab_type": "code",
        "colab": {}
      },
      "source": [
        "import quandl\n",
        "import pandas as pd\n",
        "import numpy as np\n",
        "import pandas as pd\n",
        "from google.colab import drive, files\n",
        "import sys\n",
        "import time\n",
        "import os\n",
        "import shutil\n",
        "\n",
        "#quandl.ApiConfig.api_key = \"GxX1kJbkSAeX5YsK2tsS\"\n",
        "#quandl.ApiConfig.api_key = \"QJcFTfnEZXrKsKHETczD\""
      ],
      "execution_count": 0,
      "outputs": []
    },
    {
      "cell_type": "code",
      "metadata": {
        "id": "sLwLiBhs51eT",
        "colab_type": "code",
        "outputId": "943ded90-21e5-4114-e68d-b4aa3b44bbe3",
        "colab": {
          "base_uri": "https://localhost:8080/",
          "height": 35
        }
      },
      "source": [
        "#mount google drive files \n",
        "drive.mount('/content/drive')\n",
        "\n",
        "#copy csv's to cloud\n",
        "!cp drive/My\\ Drive/CDS_project/country_codes drive/My\\ Drive/CDS_project/Cpi18.csv drive/My\\ Drive/CDS_project/wwdi_indicators ."
      ],
      "execution_count": 0,
      "outputs": [
        {
          "output_type": "stream",
          "text": [
            "Drive already mounted at /content/drive; to attempt to forcibly remount, call drive.mount(\"/content/drive\", force_remount=True).\n"
          ],
          "name": "stdout"
        }
      ]
    },
    {
      "cell_type": "code",
      "metadata": {
        "id": "s6Dt-d5k59vu",
        "colab_type": "code",
        "colab": {}
      },
      "source": [
        "#countries\n",
        "countries = pd.read_csv(\"country_codes\", sep=\"|\",header=0)\n",
        "countries.columns=['country','country_code']\n",
        "\n",
        "#indicators \n",
        "indicators= pd.read_csv(\"wwdi_indicators\",sep=\"|\",header=0)\n",
        "indicators.columns=['indicator','indicator_code']\n",
        "\n",
        "c_code = countries['country_code']\n",
        "i_code = indicators['indicator_code']\n",
        "i_name = indicators['indicator']\n",
        "\n",
        "i_code_arr = list(i_code)"
      ],
      "execution_count": 0,
      "outputs": []
    },
    {
      "cell_type": "markdown",
      "metadata": {
        "id": "OzGqookuhJrx",
        "colab_type": "text"
      },
      "source": [
        "### Pull all data in from Quandl (parallelised)"
      ]
    },
    {
      "cell_type": "code",
      "metadata": {
        "id": "3uQoV8929nGB",
        "colab_type": "code",
        "colab": {}
      },
      "source": [
        "for i in l:\n",
        "  print(i)\n",
        "  os.mkdir(f'drive/My Drive/CDS_project/data/{i}')\n",
        "  for j in i_code:\n",
        "    try:\n",
        "      code = f'{i}_{j}'\n",
        "      this_df = quandl.get(f'WWDI/{i}_{j}')\n",
        "\n",
        "      if not this_df.empty:\n",
        "        this_df.columns = [f'{code}']\n",
        "        this_df.to_csv(f'{code}.csv')\n",
        "        shutil.move(f'{code}.csv', f'drive/My Drive/CDS_project/data/{i}')\n",
        "\n",
        "      else:\n",
        "        print(f'found empty df for code {code}')\n",
        "        pd.DataFrame().to_csv(f'{code}.csv')\n",
        "        shutil.move(f'{code}.csv', f'drive/My Drive/CDS_project/data/{i}')\n",
        "\n",
        "    except quandl.errors.quandl_error.NotFoundError:\n",
        "      pd.DataFrame().to_csv(f'{code}.csv')\n",
        "      shutil.move(f'{code}.csv', f'drive/My Drive/CDS_project/data/{i}')\n",
        "\n",
        "  print('sleeping')\n",
        "  time.sleep(60*5)\n"
      ],
      "execution_count": 0,
      "outputs": []
    },
    {
      "cell_type": "markdown",
      "metadata": {
        "id": "gAPBdA3EhSUR",
        "colab_type": "text"
      },
      "source": [
        "### Build dataframe for all_countries_2016.csv"
      ]
    },
    {
      "cell_type": "code",
      "metadata": {
        "id": "iEmNxvdIHMul",
        "colab_type": "code",
        "colab": {}
      },
      "source": [
        "countries = os.listdir('drive/My Drive/CDS_project/data')[45:90]\n",
        "counter = 0\n",
        "df = pd.DataFrame()\n",
        "for i in countries:\n",
        "  print(i)\n",
        "  with os.scandir(f'drive/My Drive/CDS_project/data/{i}') as dir:\n",
        "    row = pd.DataFrame(columns=i_code_arr) #current row\n",
        "    for f in dir:\n",
        "      f_size = f.stat().st_size\n",
        "      this_i_code = f.name[4:][:-4]\n",
        "      #print(f.name)\n",
        "      #print(f'size is {f_size}')\n",
        "      if f_size > 5: #open csv and find entry\n",
        "        this_df = pd.read_csv(f, header=0, index_col=0)\n",
        "        this_df.index = pd.to_datetime(this_df.index)\n",
        "\n",
        "        if 2016 in this_df.index.year: #entry present\n",
        "          idx = list(this_df.index.year).index(2016)\n",
        "          row[f'{this_i_code}'] = [this_df.iloc[idx][0]]\n",
        "\n",
        "        else: #entry not present\n",
        "          last = this_df.index.year[-1]\n",
        "          idx = list(this_df.index.year).index(last)\n",
        "          row[f'{this_i_code}'] = [this_df.iloc[idx][0]]\n",
        "          counter += 1\n",
        "          \n",
        "      else: #add nan for this indicator\n",
        "        row[f'{this_i_code}'] = [np.nan]\n",
        "\n",
        "    df = df.append(row)\n",
        "\n",
        "df.to_csv('2.csv', index=False)\n",
        "shutil.copy('2.csv', 'drive/My Drive/CDS_project')"
      ],
      "execution_count": 0,
      "outputs": []
    }
  ]
}